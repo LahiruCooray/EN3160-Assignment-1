{
  "nbformat": 4,
  "nbformat_minor": 0,
  "metadata": {
    "colab": {
      "provenance": []
    },
    "kernelspec": {
      "name": "python3",
      "display_name": "Python 3"
    },
    "language_info": {
      "name": "python"
    }
  },
  "cells": [
    {
      "cell_type": "code",
      "execution_count": 1,
      "metadata": {
        "id": "P0PS8D6QbmH7"
      },
      "outputs": [],
      "source": [
        "import numpy as np\n",
        "\n",
        "# Function to apply intensity transformation to a single pixel\n",
        "def transform_pixel_intensity(pixel_value: int) -> float:\n",
        "    # Apply a linear transformation for pixel values in the range [50, 150]\n",
        "    if 50 <= pixel_value <= 150:\n",
        "        return 155 / 100 * pixel_value + 22.5\n",
        "    else:\n",
        "        return pixel_value"
      ]
    }
  ]
}